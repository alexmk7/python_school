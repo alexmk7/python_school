{
 "cells": [
  {
   "cell_type": "code",
   "execution_count": 1,
   "metadata": {},
   "outputs": [],
   "source": [
    "import gensim\n",
    "from gensim.models import KeyedVectors"
   ]
  },
  {
   "cell_type": "code",
   "execution_count": 2,
   "metadata": {},
   "outputs": [],
   "source": [
    "w2v = KeyedVectors.load_word2vec_format('vectors_full.bin', binary=True)"
   ]
  },
  {
   "cell_type": "code",
   "execution_count": 3,
   "metadata": {},
   "outputs": [
    {
     "data": {
      "text/plain": [
       "(200,)"
      ]
     },
     "execution_count": 3,
     "metadata": {},
     "output_type": "execute_result"
    }
   ],
   "source": [
    "w2v['договор'].shape"
   ]
  },
  {
   "cell_type": "code",
   "execution_count": 4,
   "metadata": {},
   "outputs": [
    {
     "data": {
      "text/plain": [
       "[('соглашение', 0.891616702079773),\n",
       " ('перемирие', 0.7441631555557251),\n",
       " ('пакт', 0.7379345297813416),\n",
       " ('конвенция', 0.6760766506195068),\n",
       " ('договоренность', 0.660764217376709),\n",
       " ('прелиминарный', 0.6603819131851196),\n",
       " ('меморандум', 0.6483756899833679),\n",
       " ('обязываться', 0.6199610233306885),\n",
       " ('конкордат', 0.5873507857322693),\n",
       " ('декларация', 0.5868582725524902)]"
      ]
     },
     "execution_count": 4,
     "metadata": {},
     "output_type": "execute_result"
    }
   ],
   "source": [
    "w2v.most_similar('договор')"
   ]
  },
  {
   "cell_type": "code",
   "execution_count": 5,
   "metadata": {},
   "outputs": [
    {
     "data": {
      "text/plain": [
       "[('петродворец', 0.591354489326477),\n",
       " ('екатерининский', 0.5798564553260803),\n",
       " ('петергоф', 0.5711880922317505),\n",
       " ('петербург', 0.5364196300506592),\n",
       " ('павловск', 0.530489444732666),\n",
       " ('дворцовый', 0.5250322818756104),\n",
       " ('адмиралтейский', 0.5246279239654541),\n",
       " ('исаакиевский', 0.52010577917099),\n",
       " ('меншиковский', 0.5082240700721741),\n",
       " ('юсуповский', 0.5057656168937683)]"
      ]
     },
     "execution_count": 5,
     "metadata": {},
     "output_type": "execute_result"
    }
   ],
   "source": [
    "w2v.most_similar(positive=['санкт-петербург', 'версаль'], negative=['париж'])"
   ]
  }
 ],
 "metadata": {
  "kernelspec": {
   "display_name": "Python 3",
   "language": "python",
   "name": "python3"
  },
  "language_info": {
   "codemirror_mode": {
    "name": "ipython",
    "version": 3
   },
   "file_extension": ".py",
   "mimetype": "text/x-python",
   "name": "python",
   "nbconvert_exporter": "python",
   "pygments_lexer": "ipython3",
   "version": "3.6.5"
  }
 },
 "nbformat": 4,
 "nbformat_minor": 2
}
