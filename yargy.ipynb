{
 "cells": [
  {
   "cell_type": "markdown",
   "metadata": {},
   "source": [
    "# [Yargy](https://github.com/natasha/yargy)\n",
    "\n",
    "Простая альтернатива [Tomita-парсеру](https://tech.yandex.ru/tomita/)"
   ]
  },
  {
   "cell_type": "code",
   "execution_count": 1,
   "metadata": {},
   "outputs": [],
   "source": [
    "from yargy import (\n",
    "    Parser,\n",
    "    rule,\n",
    "    and_, or_\n",
    ")\n",
    "from yargy.pipelines import morph_pipeline\n",
    "from yargy.interpretation import fact, attribute\n",
    "from yargy.predicates import (\n",
    "    eq, gte, lte, length_eq,\n",
    "    dictionary, normalized,\n",
    ")"
   ]
  },
  {
   "cell_type": "markdown",
   "metadata": {},
   "source": [
    "### Задача - научиться извлекать из документа ссылка на АПК РФ и т.п."
   ]
  },
  {
   "cell_type": "code",
   "execution_count": 2,
   "metadata": {},
   "outputs": [],
   "source": [
    "text = 'Апелляционная жалоба рассмотрена в порядке статей 123, 156 АПК РФ в отсутствие представителей лиц, участвующих в деле'\n",
    "text_full = text.replace('АПК', 'Арбитражного Процессуального Кодекса')"
   ]
  },
  {
   "cell_type": "code",
   "execution_count": 3,
   "metadata": {},
   "outputs": [],
   "source": [
    "def findall(gr, text):\n",
    "    for match in Parser(gr).findall(text):\n",
    "        print([_.value for _ in match.tokens]) "
   ]
  },
  {
   "cell_type": "markdown",
   "metadata": {},
   "source": [
    "### Тривиальное решение"
   ]
  },
  {
   "cell_type": "code",
   "execution_count": 4,
   "metadata": {},
   "outputs": [
    {
     "name": "stdout",
     "output_type": "stream",
     "text": [
      "['ст', '123']\n"
     ]
    }
   ],
   "source": [
    "GR = rule(\n",
    "        'ст', \n",
    "        and_(gte(1), lte(1000))\n",
    "     )\n",
    "\n",
    "findall(GR, 'согласно ст 123')"
   ]
  },
  {
   "cell_type": "markdown",
   "metadata": {},
   "source": [
    "### Добавим \"`cт`\" и \"`статья`\""
   ]
  },
  {
   "cell_type": "code",
   "execution_count": 5,
   "metadata": {},
   "outputs": [],
   "source": [
    "NUM = and_(gte(1), lte(1000))\n",
    "\n",
    "GR = rule(\n",
    "        or_(rule('статья'),\n",
    "            rule('ст', eq('.').optional())\n",
    "        ),\n",
    "        and_(gte(1), lte(1000))\n",
    "     )\n",
    "\n",
    "findall(GR, 'согласно статьи 123')"
   ]
  },
  {
   "cell_type": "markdown",
   "metadata": {},
   "source": [
    "### Добавим морфологию"
   ]
  },
  {
   "cell_type": "code",
   "execution_count": 6,
   "metadata": {},
   "outputs": [
    {
     "name": "stdout",
     "output_type": "stream",
     "text": [
      "['статьи', '123']\n"
     ]
    }
   ],
   "source": [
    "GR = rule(\n",
    "        or_(rule(normalized('статья')),\n",
    "            rule('ст', eq('.').optional())\n",
    "        ),\n",
    "        and_(gte(1), lte(1000))\n",
    "     )\n",
    "\n",
    "findall(GR, 'согласно статьи 123')"
   ]
  },
  {
   "cell_type": "markdown",
   "metadata": {},
   "source": [
    "### Добавим \"арбитражный процессуальный кодекс\""
   ]
  },
  {
   "cell_type": "code",
   "execution_count": 7,
   "metadata": {},
   "outputs": [
    {
     "name": "stdout",
     "output_type": "stream",
     "text": [
      "['статьи', '123', 'арбитражно', 'процессуального', 'кодекса']\n"
     ]
    }
   ],
   "source": [
    "GR = rule(\n",
    "        or_(rule(normalized('статья')),\n",
    "            rule('ст', eq('.').optional())\n",
    "        ),\n",
    "        and_(gte(1), lte(1000)),\n",
    "        morph_pipeline({\n",
    "            'апк',\n",
    "            'арбитражный процессуальный кодекс'\n",
    "        })\n",
    "     )\n",
    "\n",
    "findall(GR, 'согласно статьи 123 арбитражно процессуального кодекса')"
   ]
  },
  {
   "cell_type": "markdown",
   "metadata": {},
   "source": [
    "### Несколько чисел"
   ]
  },
  {
   "cell_type": "code",
   "execution_count": 8,
   "metadata": {},
   "outputs": [
    {
     "name": "stdout",
     "output_type": "stream",
     "text": [
      "['статьям', '123', ',', '240', 'арбитражно', 'процессуального', 'кодекса']\n"
     ]
    }
   ],
   "source": [
    "NUMBERS = rule(NUM, \n",
    "               rule(eq(','), NUM).repeatable().optional())\n",
    "\n",
    "GR = rule(\n",
    "        or_(rule(normalized('статья')),\n",
    "            rule('ст', eq('.').optional())\n",
    "        ),\n",
    "        NUMBERS,\n",
    "        morph_pipeline({\n",
    "            'апк',\n",
    "            'арбитражный процессуальный кодекс'\n",
    "        })\n",
    "     )\n",
    "\n",
    "findall(GR, 'согласно статьям 123, 240 арбитражно процессуального кодекса')"
   ]
  },
  {
   "cell_type": "markdown",
   "metadata": {},
   "source": [
    "### Сохранение метаинформации "
   ]
  },
  {
   "cell_type": "code",
   "execution_count": 9,
   "metadata": {},
   "outputs": [
    {
     "name": "stdout",
     "output_type": "stream",
     "text": [
      "Entry(type='АПК', numbers='123, 240')\n"
     ]
    }
   ],
   "source": [
    "Entry = fact(\n",
    "      'Entry', \n",
    "      ['type', 'numbers']               \n",
    ")\n",
    "\n",
    "GR = rule(\n",
    "        or_(rule(normalized('статья')),\n",
    "            rule('ст', eq('.').optional())\n",
    "        ),\n",
    "        NUMBERS.interpretation(Entry.numbers),\n",
    "        morph_pipeline({\n",
    "            'апк',\n",
    "            'арбитражный процессуальный кодекс'\n",
    "        }).interpretation(Entry.type.const('АПК')),\n",
    "    \n",
    "     ).interpretation(Entry)\n",
    "\n",
    "for match in Parser(GR).findall('согласно статьям 123, 240 арбитражно процессуального кодекса'):\n",
    "    print(match.fact)"
   ]
  },
  {
   "cell_type": "code",
   "execution_count": 10,
   "metadata": {},
   "outputs": [
    {
     "name": "stdout",
     "output_type": "stream",
     "text": [
      "[23, 36) Name(first='Л', middle='В', last='макаров', nick=None)\n"
     ]
    }
   ],
   "source": [
    "import natasha\n",
    "from natasha import NamesExtractor, DatesExtractor\n",
    "\n",
    "extractor = NamesExtractor()\n",
    "matches = extractor('Конкурсный управляющий Макарова Л.В. в отзыве от 23.02.2016 возразил против доводов жалобы.')\n",
    "for match in matches:\n",
    "    print(match.span, match.fact)"
   ]
  },
  {
   "cell_type": "code",
   "execution_count": null,
   "metadata": {},
   "outputs": [],
   "source": []
  }
 ],
 "metadata": {
  "kernelspec": {
   "display_name": "Python 3",
   "language": "python",
   "name": "python3"
  },
  "language_info": {
   "codemirror_mode": {
    "name": "ipython",
    "version": 3
   },
   "file_extension": ".py",
   "mimetype": "text/x-python",
   "name": "python",
   "nbconvert_exporter": "python",
   "pygments_lexer": "ipython3",
   "version": "3.6.5"
  }
 },
 "nbformat": 4,
 "nbformat_minor": 2
}
