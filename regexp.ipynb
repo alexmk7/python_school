{
 "cells": [
  {
   "cell_type": "markdown",
   "metadata": {},
   "source": [
    "# Обработка текстов\n",
    "\n",
    "## Регулярные выражения\n",
    "\n",
    "Иногда возникает необходимость для поиска каких-то элементов в тексте (например гиперссылок) или проверки введенных пользоватем данных. Для упрощения этих задач существуют регулярные выражения. \n",
    "\n",
    "Применение:\n",
    "- поиск паттерна в строке\n",
    "- проверка строки на совпадение паттерну \n",
    "- сегментация строки по паттерну \n",
    "- замена паттерна в строке.\n",
    "\n",
    "\n",
    "Паттерн описывается с помощью специального языка - регулярного выражения, в Python используются регулярные выражения с синтаксисом PCRE:\n",
    "\n",
    "**Основные конструкции:**\n",
    "\n",
    "<table>\n",
    "<tr><th>Выражение</th><th>Значение</th><th>Выражение</th><th>Значение</th></tr>\n",
    "<tr><td>`.`</td><td>любой символ</td>\n",
    "    <td>**\\d**</td><td>цифра</td></tr>\n",
    "<tr><td>**\\D**</td><td>не цифра</td>\n",
    "    <td>**\\s**</td><td>пробельный символ</td></tr>\n",
    "<tr><td>**\\S**</td><td>*не* пробельный символ</td>\n",
    "    <td>**\\w**</td><td>буквенный символ</td></tr>\n",
    "<tr><td>**\\W**</td><td>*не* буквенный символ</td>\n",
    "    <td>**^**</td><td>начало строки</td></tr>\n",
    "<tr><td>**$**</td><td>конец строки</td>\n",
    "    <td>**\\b**</td><td>начало слова</td></tr>\n",
    "<tr><td>**\\B**</td><td>конец слова</td>\n",
    "    <td>**[abc]**</td><td>любой символ из перечисленных</td></tr>\n",
    "<tr><td>**[^abc]**</td><td>любой символ кроме перечисленных</td>\n",
    "    <td>**[a-zA-Z]**</td><td>символы из интервалов</td></tr>\n",
    "<tr><td>**X|Y**</td><td>или</td></tr>    \n",
    "</table>\n",
    "\n",
    "**Жадные квантификаторы:**\n",
    "\n",
    "<table>\n",
    "<tr><th>Выражение</th><th>Значение</th><th>Выражение</th><th>Значение</th></tr>\n",
    "<tr><td>**X?**</td><td>ноль или одно повторение</td>\n",
    "    <td>** X* **</td><td>ноль или больше повторений</td></tr>\n",
    "<tr><td>** X+ **</td><td>одно или больше повторений</td>\n",
    "    <td>**X{n}**</td><td>*n* повторений</td></tr>\n",
    "<tr><td>** X{n,} **</td><td>больше *n* больше повторений</td>\n",
    "    <td>**X{n,m}**</td><td>от *n* до *m* повторений</td></tr>    \n",
    "</table>    \n",
    " \n",
    "**Ленивые квантификаторы: :**\n",
    "<table>\n",
    "<tr><th>Выражение</th><th>Значение</th><th>Выражение</th><th>Значение</th></tr>\n",
    "<tr><td>**X?**</td><td>ноль или одно повторение</td>\n",
    "    <td>** X*? **</td><td>ноль или больше повторений</td></tr>\n",
    "<tr><td>** X+? **</td><td>одно или больше повторений</td>\n",
    "    <td>**X{n}?**</td><td>*n* повторений</td></tr>\n",
    "<tr><td>** X{n,}? **</td><td>больше *n* больше повторений</td>\n",
    "    <td>**X{n,m}?**</td><td>от *n* до *m* повторений</td></tr>    \n",
    "</table>   \n",
    "\n",
    "#### Группы:\n",
    "<table>\n",
    "<tr><th>Выражение</th><th>Значение</th><th>Выражение</th><th>Значение</th></tr>\n",
    "<tr><td>**(X)**</td><td>группа (capturing)</td>\n",
    "    <td>**(?:X)**</td><td>группа (non-capturing)</td></tr>\n",
    "<tr><td>**(?=X)**</td><td>предпросмотр</td>\n",
    "    <td>**(?!X)**</td><td>негативный предпросмотр</td></tr>\n",
    "</table>  \n"
   ]
  },
  {
   "cell_type": "code",
   "execution_count": 1,
   "metadata": {
    "collapsed": true
   },
   "outputs": [],
   "source": [
    "import re"
   ]
  },
  {
   "cell_type": "markdown",
   "metadata": {},
   "source": [
    "### Сопоставление с образцом"
   ]
  },
  {
   "cell_type": "code",
   "execution_count": 2,
   "metadata": {},
   "outputs": [
    {
     "name": "stdout",
     "output_type": "stream",
     "text": [
      "<_sre.SRE_Match object; span=(0, 4), match='aaaб'>\n"
     ]
    }
   ],
   "source": [
    "pattern = re.compile(r'a+б$')\n",
    "print(pattern.fullmatch('aaaб'))"
   ]
  },
  {
   "cell_type": "markdown",
   "metadata": {},
   "source": [
    "### Поиск вхождений"
   ]
  },
  {
   "cell_type": "code",
   "execution_count": 3,
   "metadata": {
    "collapsed": true
   },
   "outputs": [
    {
     "data": {
      "text/plain": [
       "['Петя', 'Пееетя']"
      ]
     },
     "execution_count": 3,
     "metadata": {},
     "output_type": "execute_result"
    }
   ],
   "source": [
    "pattern = re.compile(r'Пе+тя')\n",
    "s = 'Петя! Привет, Пееетя!'\n",
    "\n",
    "pattern.findall(s)"
   ]
  },
  {
   "cell_type": "markdown",
   "metadata": {},
   "source": [
    "### Разделение строки на подстроки"
   ]
  },
  {
   "cell_type": "code",
   "execution_count": 4,
   "metadata": {},
   "outputs": [
    {
     "data": {
      "text/plain": [
       "['Раз', 'два', 'три']"
      ]
     },
     "execution_count": 4,
     "metadata": {},
     "output_type": "execute_result"
    }
   ],
   "source": [
    "re.split(r'\\W+', 'Раз, два, три')"
   ]
  },
  {
   "cell_type": "markdown",
   "metadata": {},
   "source": [
    "### Замена "
   ]
  },
  {
   "cell_type": "code",
   "execution_count": 5,
   "metadata": {},
   "outputs": [
    {
     "data": {
      "text/plain": [
       "'Привет-мир'"
      ]
     },
     "execution_count": 5,
     "metadata": {},
     "output_type": "execute_result"
    }
   ],
   "source": [
    "re.sub(r'\\W', '-', 'Привет мир')"
   ]
  },
  {
   "cell_type": "code",
   "execution_count": 6,
   "metadata": {},
   "outputs": [
    {
     "data": {
      "text/plain": [
       "'7 + 7 равно 9'"
      ]
     },
     "execution_count": 6,
     "metadata": {},
     "output_type": "execute_result"
    }
   ],
   "source": [
    "re.sub('\\d+', lambda x: str(int(x.group(0)) + 5), '2 + 2 равно 4')"
   ]
  },
  {
   "cell_type": "markdown",
   "metadata": {},
   "source": [
    "### Извлечение составных частей"
   ]
  },
  {
   "cell_type": "code",
   "execution_count": 7,
   "metadata": {},
   "outputs": [
    {
     "name": "stdout",
     "output_type": "stream",
     "text": [
      "test@example.com\n",
      "test\n",
      "example\n",
      "com\n"
     ]
    }
   ],
   "source": [
    "pattern = re.compile(r'(\\w+)@(\\w+)\\.(\\w{2,3})')\n",
    "\n",
    "matcher = pattern.match('test@example.com')\n",
    "if matcher:\n",
    "    print(matcher.group(0))\n",
    "    print(matcher.group(1))\n",
    "    print(matcher.group(2))\n",
    "    print(matcher.group(3))"
   ]
  },
  {
   "cell_type": "code",
   "execution_count": 8,
   "metadata": {},
   "outputs": [
    {
     "name": "stdout",
     "output_type": "stream",
     "text": [
      "example.com\n",
      "gmail.com\n"
     ]
    }
   ],
   "source": [
    "t = 'test@example.com ssss test2@gmail.com'\n",
    "\n",
    "pattern = re.compile(r'(\\w+)@((\\w+)\\.(\\w{2,3}))')\n",
    "for m in pattern.finditer(t):\n",
    "    print (m.group(2))"
   ]
  },
  {
   "cell_type": "code",
   "execution_count": 9,
   "metadata": {},
   "outputs": [
    {
     "name": "stdout",
     "output_type": "stream",
     "text": [
      "test\n",
      "hello\n"
     ]
    }
   ],
   "source": [
    "s = 'test@example.com hello@mail.ru'\n",
    "matchers = pattern.finditer(s)\n",
    "for matcher in matchers:\n",
    "    print (matcher.group(1))"
   ]
  },
  {
   "cell_type": "markdown",
   "metadata": {},
   "source": [
    "### Проблемы"
   ]
  },
  {
   "cell_type": "code",
   "execution_count": 10,
   "metadata": {},
   "outputs": [
    {
     "data": {
      "text/plain": [
       "['<h1> text1 </h1>  <h2> text3 </h2>']"
      ]
     },
     "execution_count": 10,
     "metadata": {},
     "output_type": "execute_result"
    }
   ],
   "source": [
    "s = '<h1> text1 </h1>  <h2> text3 </h2>'\n",
    "re.findall(r'<\\w+>(?:.+)</\\w+>', s)"
   ]
  },
  {
   "cell_type": "code",
   "execution_count": 11,
   "metadata": {},
   "outputs": [
    {
     "data": {
      "text/plain": [
       "['<h1> text1 </h1>', '<h2> text3 </h2>']"
      ]
     },
     "execution_count": 11,
     "metadata": {},
     "output_type": "execute_result"
    }
   ],
   "source": [
    "re.findall(r'<\\w+>(?:.+?)</\\w+>', s)"
   ]
  },
  {
   "cell_type": "code",
   "execution_count": 12,
   "metadata": {},
   "outputs": [
    {
     "data": {
      "text/plain": [
       "[]"
      ]
     },
     "execution_count": 12,
     "metadata": {},
     "output_type": "execute_result"
    }
   ],
   "source": [
    "re.findall(r'(a*a*)*c', 'a' * 10 + 'e')"
   ]
  },
  {
   "cell_type": "markdown",
   "metadata": {},
   "source": [
    "### Scanner"
   ]
  },
  {
   "cell_type": "code",
   "execution_count": 13,
   "metadata": {},
   "outputs": [
    {
     "data": {
      "text/plain": [
       "([('123', 'digit'), ('привет', 'word'), ('test@example.com', 'email')], '')"
      ]
     },
     "execution_count": 13,
     "metadata": {},
     "output_type": "execute_result"
    }
   ],
   "source": [
    "scanner = re.Scanner(\n",
    "   [(r'(\\w+)@(\\w+)\\.(\\w{2,3})', lambda s, x: (x, 'email')),\n",
    "    \n",
    "    (r'\\d+', lambda s, x: (x, 'digit')), \n",
    "\n",
    "    (r'\\w+', lambda s, x: (x, 'word')),  \n",
    "                      \n",
    "    (r'\\s+', None),\n",
    "    \n",
    "    (r'[.,;\"!?:]', lambda s, x: (x, 'preposition')),\n",
    "    ], re.UNICODE)\n",
    "\n",
    "scanner.scan('123 привет test@example.com')"
   ]
  },
  {
   "cell_type": "markdown",
   "metadata": {},
   "source": [
    "## NLTK\n",
    "Natural Language Toolkit, библиотека для обработки естественных языков. \n",
    "Токенизация реализована через регулярные выражение Python (в общем случае медленно)"
   ]
  },
  {
   "cell_type": "code",
   "execution_count": 14,
   "metadata": {},
   "outputs": [
    {
     "name": "stdout",
     "output_type": "stream",
     "text": [
      "[nltk_data] Downloading package punkt to /home/alex/nltk_data...\n",
      "[nltk_data]   Package punkt is already up-to-date!\n"
     ]
    },
    {
     "data": {
      "text/plain": [
       "(['Hello', 'world', '4.2', '.'],\n",
       " ['LA', 'New-York'],\n",
       " ['Hello', 'world', '4', '.', '2', '!'])"
      ]
     },
     "execution_count": 14,
     "metadata": {},
     "output_type": "execute_result"
    }
   ],
   "source": [
    "import nltk\n",
    "from nltk.tokenize import wordpunct_tokenize, word_tokenize\n",
    "\n",
    "nltk.download('punkt')\n",
    "\n",
    "(word_tokenize('Hello world 4.2.'), \n",
    " word_tokenize('LA New-York'), \n",
    " wordpunct_tokenize('Hello world 4.2!'))"
   ]
  },
  {
   "cell_type": "markdown",
   "metadata": {},
   "source": [
    "## Реализации регулярных выражений\n",
    "\n",
    "### Формальные языки\n",
    "\n",
    "> *Формальный язык*— множество конечных слов над конечным алфавитом $\\Sigma$. \n",
    "Пусть есть некоторое конечно множество символов $\\Sigma$, тогда множество $L \\in \\Sigma^*$ есть формальный язык. \n",
    "\n",
    "Над формальными языками можно определить операции:\n",
    "- $L_1 \\cap L_2$\n",
    "- $L_1 \\cup L_2$\n",
    "- $L_1 \\setminus L_2$\n",
    "- $L_1 \\cdot L_2 $ - новый язык, в котором ко всем возможным словам из $L_1$ присоеденены справа слова из $L_2$\n",
    "- $L^*$ - замыкание клини, $\\{\\epsilon\\} \\cup L \\cup (L \\cdot L) \\cup (L \\cdot L \\cdot L) \\cup \\cdots$\n",
    "\n",
    "### Регулярные языки\n",
    "\n",
    "> Формальный язык над алфавитом $\\Sigma$ является *регулярным*, если он принаджежит множеству языков $R \\in \\Sigma^*$:\n",
    "- $\\varnothing \\in R$\n",
    "- $\\{\\varepsilon\\} \\in R$\n",
    "- $\\forall a \\in \\Sigma: \\{a\\} \\in R$\n",
    "- $P \\in R \\land Q \\in R \\Rightarrow (P \\cup Q) \\in R$\n",
    "- $P \\in R \\land Q \\in R \\Rightarrow (P \\cdot Q) \\in R$\n",
    "- $P \\in R \\Rightarrow P^* \\in R$\n",
    "\n",
    "\n",
    "Любой регулярный язык может быть описан:\n",
    "- детерменированным конечным автоматом\n",
    "- недетерменированным конечным автоматом\n",
    "- регулярным выражением\n",
    "- регулярном грамматикой\n",
    "\n",
    "### Конечные автоматы\n",
    "\n",
    "> Конечный автомат это упорядоченная пятерка $A = (\\Sigma, Q, q_0, F, \\delta)$, где\n",
    "* $\\Sigma$ - входной алфавит\n",
    "* $Q$ - множество состояний\n",
    "* $q_0 \\in Q$ - начальное состояние\n",
    "* $F \\subset Q$ - множество конечных состояний\n",
    "* $\\delta: (\\Sigma \\cup \\varepsilon) \\times Q \\rightarrow 2^Q$ - функция перехода\n",
    "\n",
    "В зависимости от определения функции перехода:\n",
    "- недетерминированный конечный автомат с $\\varepsilon$-переходами ($\\varepsilon$-NFA)\n",
    "$$\\delta: (\\Sigma \\cup \\varepsilon) \\times Q \\rightarrow 2^Q$$ \n",
    "\n",
    "- недетерминированный конечный автомат (NFA)\n",
    "$$\\delta: \\Sigma \\times Q \\rightarrow 2^Q$$ \n",
    "\n",
    "- детерминированный конечный автомат (DFA)\n",
    "$$\\delta: \\Sigma \\times Q \\rightarrow Q$$ \n",
    "\n",
    "Множество слов, которые принимаются конечным автоматом образуют регулярный язык. По любому $\\varepsilon$-NFA можно построить эквивалентый DFA. В DFA можно минимизировать число состояний. \n",
    "\n",
    "\n",
    "### Пример конечного автомата\n",
    "\n",
    "![конечный автомат](images/dfa.svg)\n"
   ]
  },
  {
   "cell_type": "markdown",
   "metadata": {},
   "source": [
    "Существует два распространенных способа реализации регулярных выражений, применяемых в различных задачах (не считая гибридов и т.п.):\n",
    "1. регулярное выражение -> $\\varepsilon$-NFA -> DFA -> min-DFA\n",
    "2. backtracking \n",
    "\n",
    "#### Разновидности синтаксиса регулярных выражений\n",
    "\n",
    "* POSIX RE (., *, [ ], [^ ], \\{ \\}, \\( \\))\n",
    "* POSIX ERE (., *, +, ?, |, [ ], [^ ], { }, ( ))\n",
    "* PCRE (стандартные библиотеки Perl, Java, C#, Python) - только backtracking"
   ]
  },
  {
   "cell_type": "markdown",
   "metadata": {},
   "source": [
    "### Инструменты\n",
    "\n",
    "- ply (Python)\n",
    "- pyparsing (Python)\n",
    "- lex, flex (C)\n",
    "- jflex (Java)\n",
    "- ANTLR (Java, C++, )"
   ]
  },
  {
   "cell_type": "markdown",
   "metadata": {},
   "source": [
    "### Ply"
   ]
  },
  {
   "cell_type": "code",
   "execution_count": 15,
   "metadata": {},
   "outputs": [
    {
     "name": "stdout",
     "output_type": "stream",
     "text": [
      "LexToken(NUMBER,123,1,0)\n",
      "LexToken(ID,'abs',1,4)\n",
      "LexToken(NUMBER,965,1,8)\n"
     ]
    }
   ],
   "source": [
    "from ply.lex import lex, TOKEN\n",
    "\n",
    "class Lexer:\n",
    "    tokens = ( 'NUMBER', 'ID', 'WHITESPACE' )\n",
    "    \n",
    "    @TOKEN(r'\\d{1,5}')\n",
    "    def t_NUMBER(self, t):\n",
    "        t.value = int(t.value)\n",
    "        return t\n",
    "\n",
    "    @TOKEN(r'\\w+')\n",
    "    def t_ID(self, t):\n",
    "        return t\n",
    "\n",
    "    @TOKEN(r'\\s+')\n",
    "    def t_WHITESPACE(self, t):\n",
    "        pass\n",
    "\n",
    "    def t_error(self, t):\n",
    "        pass\n",
    "    \n",
    "\n",
    "__file__ = ''     # make `ply` happy\n",
    "\n",
    "lexer = lex(object=Lexer())\n",
    "lexer.input('123 abs 965')\n",
    "for token in lexer:\n",
    "    print(token)"
   ]
  },
  {
   "cell_type": "markdown",
   "metadata": {},
   "source": [
    "### Pyparsing"
   ]
  },
  {
   "cell_type": "code",
   "execution_count": 16,
   "metadata": {},
   "outputs": [
    {
     "data": {
      "text/plain": [
       "(['hello', '1', '22', '3'], {})"
      ]
     },
     "execution_count": 16,
     "metadata": {},
     "output_type": "execute_result"
    }
   ],
   "source": [
    "from pyparsing import Word, alphas, nums,  Literal, StringEnd, ZeroOrMore, Suppress, OneOrMore \n",
    "\n",
    "word = Word(alphas)\n",
    "num = Word(nums)\n",
    "sep = Suppress(OneOrMore(','))\n",
    "col = Suppress(':')\n",
    "\n",
    "s = word + col + num + ZeroOrMore(sep + num) + StringEnd()\n",
    "        \n",
    "s.parseString('hello: 1, 22, 3')"
   ]
  },
  {
   "cell_type": "code",
   "execution_count": 17,
   "metadata": {},
   "outputs": [
    {
     "data": {
      "text/plain": [
       "(['(', '(', ')', ')', '(', ')', '(', ')'], {})"
      ]
     },
     "execution_count": 17,
     "metadata": {},
     "output_type": "execute_result"
    }
   ],
   "source": [
    "from pyparsing import Literal, Forward, StringEnd, OneOrMore, Empty\n",
    "\n",
    "br_o = Literal('(')\n",
    "br_c = Literal(')')\n",
    "\n",
    "braces = Forward()\n",
    "braces << OneOrMore(br_o + (braces | Empty() ) + br_c)\n",
    "start = braces + StringEnd()\n",
    "        \n",
    "start.parseString('(())()()')"
   ]
  },
  {
   "cell_type": "code",
   "execution_count": 18,
   "metadata": {},
   "outputs": [
    {
     "name": "stdout",
     "output_type": "stream",
     "text": [
      "Op(Op(Num(2.0), <built-in function mul>, Num(4.0)), <built-in function add>, Op(Num(6.0), <built-in function mul>, Num(7.0)))\n",
      "50.0\n"
     ]
    }
   ],
   "source": [
    "from pyparsing import Word, Literal, Or, nums, Forward, StringEnd\n",
    "from operator import mul, truediv, add, sub\n",
    "\n",
    "class NumNode(object):\n",
    "    def __init__(self, t):\n",
    "        self.num = float(t[0])        \n",
    "    def calc(self):\n",
    "        return self.num          \n",
    "    def __repr__(self):\n",
    "        return 'Num(%s)' % self.num\n",
    "        \n",
    "class OpNode(object):\n",
    "    def __init__(self, t):               \n",
    "        self.left = t[0]\n",
    "        self.op = { '-' : sub, '+' : add, '/' : truediv, '*' : mul }[t[1]]\n",
    "        self.right = t[2]       \n",
    "    def calc(self):\n",
    "        return self.op(self.left.calc(), self.right.calc())        \n",
    "    def __repr__(self):\n",
    "        return 'Op(%s, %s, %s)' % (self.left, self.op, self.right)\n",
    "\n",
    "plus = Literal('+')\n",
    "minus = Literal('-')\n",
    "div = Literal('/')\n",
    "mult = Literal('*')\n",
    "        \n",
    "factor = Word(nums).setParseAction(NumNode)\n",
    "\n",
    "term = Forward()\n",
    "term << (( factor + (mult | div) + term ).setParseAction(OpNode) | factor )        \n",
    "\n",
    "expr = Forward()\n",
    "expr << ((term + (plus | minus) + expr).setParseAction(OpNode) | term )\n",
    "\n",
    "start = expr + StringEnd()\n",
    "\n",
    "tree = start.parseString('2 * 4 + 6 * 7')[0]\n",
    "print(tree)\n",
    "print(tree.calc())"
   ]
  },
  {
   "cell_type": "code",
   "execution_count": null,
   "metadata": {},
   "outputs": [],
   "source": []
  }
 ],
 "metadata": {
  "kernelspec": {
   "display_name": "Python 3",
   "language": "python",
   "name": "python3"
  },
  "language_info": {
   "codemirror_mode": {
    "name": "ipython",
    "version": 3
   },
   "file_extension": ".py",
   "mimetype": "text/x-python",
   "name": "python",
   "nbconvert_exporter": "python",
   "pygments_lexer": "ipython3",
   "version": "3.6.5"
  }
 },
 "nbformat": 4,
 "nbformat_minor": 2
}
